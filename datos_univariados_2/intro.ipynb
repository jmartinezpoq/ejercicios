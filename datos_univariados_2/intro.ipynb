{
 "cells": [
  {
   "cell_type": "code",
   "execution_count": 1,
   "metadata": {},
   "outputs": [],
   "source": [
    "import numpy as np"
   ]
  },
  {
   "cell_type": "markdown",
   "metadata": {},
   "source": [
    "## Métodos de Monte Carlo\n",
    "\n",
    "Cuando tenemos preguntas sobre procesos, y tenemos modelos de mecanismo de un proceso, podemos usar [métodos de Monte Carlo](https://en.wikipedia.org/wiki/Monte_Carlo_method) para responderlas. Esto es extremadamente potente si ya sabes programar: hay muchas preguntas cuantitativas que son muy fáciles de formular y resolver como un experimento de Monte Carlo, pero muy difíciles de resolver de forma analítica.\n",
    "\n",
    "### Ejemplo introductorio\n",
    "\n",
    "Estamos jugando a cara o cruz con una moneda trucada. La moneda tiene la siguiente distribución de probabilidad:\n",
    "```\n",
    "cara: 0.6\n",
    "cruz: 0.4\n",
    "```\n",
    "\n",
    "Si sale cruz ganas, si sale cara pierdes.\n",
    "\n",
    "##### Pregunta 0\n",
    "\n",
    "**¿Qué proporción de las veces ganas?**\n",
    "\n",
    "Esta respuesta la podemos calcular trivialmente de forma analítica: `0.4`, que es simplemente la proporción de cruces esperada. Pero vamos a calcularla vía un experimento de Monte Carlo para romper mano. \n",
    "\n",
    "Llevamos a cabo \"muchas\" simulaciones de la tirada, y calculamos la proporción de cruces:"
   ]
  },
  {
   "cell_type": "code",
   "execution_count": 2,
   "metadata": {},
   "outputs": [
    {
     "name": "stdout",
     "output_type": "stream",
     "text": [
      "0.39792 error:  0.0020800000000000263\n",
      "0.4004 error:  0.00039999999999995595\n",
      "0.39858 error:  0.0014200000000000323\n"
     ]
    }
   ],
   "source": [
    "def estimate_win_proportion(num_trials: int) -> float:\n",
    "    \"\"\"\n",
    "    cara: 0\n",
    "    cruz: 1\n",
    "    \n",
    "    This simulates num_trials coin tosses and calculates num_cruces / total_tosses\n",
    "    \"\"\"\n",
    "    trials = []\n",
    "    \n",
    "    for i in range(num_trials):\n",
    "        if np.random.random() <= 0.4:\n",
    "            trials.append(1)\n",
    "        else:\n",
    "            trials.append(0)\n",
    "            \n",
    "    return sum(trials) / len(trials)\n",
    "\n",
    "for i in range(3):\n",
    "    proportion_estimate = estimate_win_proportion(50000)\n",
    "    print(proportion_estimate, \"error: \", abs(0.4 - proportion_estimate))"
   ]
  },
  {
   "cell_type": "markdown",
   "metadata": {},
   "source": [
    "Vemos que, efectivamente, la simulación de Monte Carlo nos da respuestas cercanas a la respuesta exacta, aunque en este caso sería más fácil calcular la proporción directamente."
   ]
  },
  {
   "cell_type": "markdown",
   "metadata": {},
   "source": [
    "##### Pregunta 1\n",
    "\n",
    "Usamos la moneda en un juego con las siguientes reglas: la moneda se tira 2 veces, y dependiendo del número de cruces ganas (o pierdes) las siguientes cantidades:\n",
    "\n",
    "| numero cruces | euros |\n",
    "| ------------- | ----- |\n",
    "| 0 | -2 |\n",
    "| 1 | 0.5 |\n",
    "| 2 | 1 |\n",
    "\n",
    "**¿Cuál es [la media](https://en.wikipedia.org/wiki/Expected_value) de euros ganados (o perdidos) por partida si juegas a este juego con la moneda trucada?**"
   ]
  },
  {
   "cell_type": "markdown",
   "metadata": {},
   "source": [
    "Esto también lo podemos calcular de forma analítica usando la [distribución binomial](https://en.wikipedia.org/wiki/Binomial_distribution), pero en este caso ya tenemos que saber más matemáticas:\n",
    "\n",
    "$$\n",
    "expected\\_euros = -2 \\cdot \\binom{2}{0}0.6^{2} + 0.5 \\cdot \\binom{2}{1} 0.4 \\cdot 0.6 + \\binom{2}{2} 0.4 ^ 2\n",
    "$$"
   ]
  },
  {
   "cell_type": "code",
   "execution_count": 3,
   "metadata": {},
   "outputs": [
    {
     "name": "stdout",
     "output_type": "stream",
     "text": [
      "-0.31999999999999995\n"
     ]
    }
   ],
   "source": [
    "exact_expected_euros = -2 * 1 * (0.6 ** 2) + 0.5 * 2 * (0.4 * 0.6) + 1 * 1 * (0.4 ** 2)\n",
    "print(exact_expected_euros)"
   ]
  },
  {
   "cell_type": "markdown",
   "metadata": {},
   "source": [
    "Si sabemos programar pero no usamos mucho las matemáticas en el día a día, igual es más fácil simularlo directamente que hacer el cálculo analítico:"
   ]
  },
  {
   "cell_type": "code",
   "execution_count": 4,
   "metadata": {},
   "outputs": [
    {
     "name": "stdout",
     "output_type": "stream",
     "text": [
      "-0.3253 error:  0.005300000000000027\n",
      "-0.33105 error:  0.01105000000000006\n",
      "-0.32169 error:  0.0016900000000000248\n"
     ]
    }
   ],
   "source": [
    "def one_game() -> int:\n",
    "    \"\"\"\n",
    "    This simulates a single game: a coin is tossed twice, the number of cruces is returned.\n",
    "    \"\"\"\n",
    "    cruz_count = 0\n",
    "    \n",
    "    for i in range(2):\n",
    "        if np.random.random() <= 0.4:\n",
    "            cruz_count += 1\n",
    "    return cruz_count\n",
    "\n",
    "def average_euros(num_trials: int) -> float:\n",
    "    \"\"\"\n",
    "    This simulates num_trials games and calculates total_euros / num_trials\n",
    "    \"\"\"\n",
    "    \n",
    "    euros = []\n",
    "    for i in range(num_trials):\n",
    "        cruz_count = one_game()\n",
    "        if cruz_count == 0:\n",
    "            euros.append(-2)\n",
    "        elif cruz_count == 1:\n",
    "            euros.append(0.5)\n",
    "        else:\n",
    "            euros.append(1)\n",
    "            \n",
    "    return sum(euros) / len(euros)\n",
    "    \n",
    "    \n",
    "for i in range(3):\n",
    "    estimated_expected_euros = average_euros(50000)\n",
    "    print(estimated_expected_euros, \"error: \", abs(estimated_expected_euros - exact_expected_euros))\n",
    "    "
   ]
  },
  {
   "cell_type": "markdown",
   "metadata": {},
   "source": [
    "### Preguntas de calentamiento\n",
    "\n",
    "Consideramos un juego con 2 dados de 6 caras: el dado `a` es justo, el dado `b` tiene un sesgo que hace que aparezca más veces el 6 que los otros números, la tabla siguiente da las probabilidades:\n",
    "\n",
    "| dado | 1 | 2 | 3 | 4 | 5 | 6 |\n",
    "| ---- | - | - | - | - | - | - |\n",
    "| a | 1/6 | 1/6 | 1/6 | 1/6 | 1/6 | 1/6 |\n",
    "| b | 1/12 | 1/12 | 1/12 | 1/12 | 1/12 | 7/12 |\n",
    "\n",
    "Consideramos la suma resultante de tirar `a` y `b` y sumarlos.\n",
    "\n",
    "#### Pregunta 1\n",
    "\n",
    "Jugamos a un juego en el que el jugador gana si saca más de un 8 y pierde si saca menos.\n",
    "\n",
    "**¿Qué proporción de las veces esperas ganar si juegas a este juego con los dados a y b?**"
   ]
  },
  {
   "cell_type": "code",
   "execution_count": 5,
   "metadata": {
    "scrolled": true
   },
   "outputs": [
    {
     "name": "stdout",
     "output_type": "stream",
     "text": [
      "0.4715\n",
      "0.4679\n",
      "0.4792\n"
     ]
    }
   ],
   "source": [
    "dice = [1,2,3,4,5,6]\n",
    "def dice_one():\n",
    "    return np.random.choice(dice, 1)\n",
    "\n",
    "def dice_two():\n",
    "    return np.random.choice(dice,1,p=[1/12,1/12,1/12,1/12,1/12,7/12])\n",
    "\n",
    "def average_wins(num_trials):\n",
    "    wins = []\n",
    "    for i in range(num_trials):\n",
    "        if dice_one() + dice_two() > 8:\n",
    "            wins.append(1)\n",
    "        else:\n",
    "            wins.append(0)\n",
    "        \n",
    "    return sum(wins) / len(wins)\n",
    "\n",
    "for i in range(3):\n",
    "    estimated_expected_wins = average_wins(10000)\n",
    "    print(estimated_expected_wins)"
   ]
  },
  {
   "cell_type": "markdown",
   "metadata": {},
   "source": [
    "### Solucion\n",
    "Menos de un 50%"
   ]
  },
  {
   "cell_type": "markdown",
   "metadata": {},
   "source": [
    "#### Pregunta 2\n",
    "\n",
    "Pintar histogramas del resultado de las sumas de estos dados cuando se ejecutan simulaciones de Monte Carlo de 10, 100, y 10000 tiradas.\n",
    "\n",
    "Pensar en lo que quiere decir esto:\n",
    "* ¿Cuanto se parecen entre sí dos histogramas de 10 tiradas distintos?\n",
    "* ¿Cuanto se parecen entre sí dos histogramas de 10000 tiradas distintos?\n",
    "* Hemos caracterizado los dados `a` y `b` como tablas de valores y sus probabilidades. Pinta una tabla que haga lo mismo para los valores de la suma de a y b:\n",
    "\n",
    "| 2 | 3 | 4 | 5 | 6 | 7 | 8 | 9 | 10 | 11 | 12 |\n",
    "| - | - | - | - | - | - | - | - | -- | -- | -- |\n",
    "| ? | ? | ? | ? | ? | ? | ? | ? | ? | ? | ? |"
   ]
  },
  {
   "cell_type": "code",
   "execution_count": 6,
   "metadata": {},
   "outputs": [
    {
     "ename": "NameError",
     "evalue": "name 'plt' is not defined",
     "output_type": "error",
     "traceback": [
      "\u001b[0;31m---------------------------------------------------------------------------\u001b[0m",
      "\u001b[0;31mNameError\u001b[0m                                 Traceback (most recent call last)",
      "\u001b[0;32m<ipython-input-6-99791a489f00>\u001b[0m in \u001b[0;36m<module>\u001b[0;34m\u001b[0m\n\u001b[1;32m      6\u001b[0m \u001b[0;34m\u001b[0m\u001b[0m\n\u001b[1;32m      7\u001b[0m     \u001b[0;32mreturn\u001b[0m \u001b[0mwins\u001b[0m\u001b[0;34m\u001b[0m\u001b[0;34m\u001b[0m\u001b[0m\n\u001b[0;32m----> 8\u001b[0;31m \u001b[0mfigure\u001b[0m\u001b[0;34m,\u001b[0m \u001b[0maxes\u001b[0m \u001b[0;34m=\u001b[0m \u001b[0mplt\u001b[0m\u001b[0;34m.\u001b[0m\u001b[0msubplots\u001b[0m\u001b[0;34m(\u001b[0m\u001b[0mnrows\u001b[0m\u001b[0;34m=\u001b[0m\u001b[0;36m3\u001b[0m\u001b[0;34m,\u001b[0m \u001b[0mncols\u001b[0m\u001b[0;34m=\u001b[0m\u001b[0;36m2\u001b[0m\u001b[0;34m,\u001b[0m \u001b[0mfigsize\u001b[0m\u001b[0;34m=\u001b[0m\u001b[0;34m(\u001b[0m\u001b[0;36m13\u001b[0m\u001b[0;34m,\u001b[0m \u001b[0;36m8\u001b[0m\u001b[0;34m)\u001b[0m\u001b[0;34m)\u001b[0m\u001b[0;34m\u001b[0m\u001b[0;34m\u001b[0m\u001b[0m\n\u001b[0m\u001b[1;32m      9\u001b[0m \u001b[0mnumbers\u001b[0m\u001b[0;34m=\u001b[0m\u001b[0;34m[\u001b[0m\u001b[0;36m10\u001b[0m\u001b[0;34m,\u001b[0m\u001b[0;36m10\u001b[0m\u001b[0;34m,\u001b[0m\u001b[0;36m100\u001b[0m\u001b[0;34m,\u001b[0m\u001b[0;36m100\u001b[0m\u001b[0;34m,\u001b[0m\u001b[0;36m10000\u001b[0m\u001b[0;34m,\u001b[0m\u001b[0;36m10000\u001b[0m\u001b[0;34m]\u001b[0m\u001b[0;34m\u001b[0m\u001b[0;34m\u001b[0m\u001b[0m\n\u001b[1;32m     10\u001b[0m \u001b[0;32mfor\u001b[0m \u001b[0mi\u001b[0m\u001b[0;34m,\u001b[0m \u001b[0maxe\u001b[0m \u001b[0;32min\u001b[0m \u001b[0menumerate\u001b[0m\u001b[0;34m(\u001b[0m\u001b[0maxes\u001b[0m\u001b[0;34m.\u001b[0m\u001b[0mflatten\u001b[0m\u001b[0;34m(\u001b[0m\u001b[0;34m)\u001b[0m\u001b[0;34m)\u001b[0m\u001b[0;34m:\u001b[0m\u001b[0;34m\u001b[0m\u001b[0;34m\u001b[0m\u001b[0m\n",
      "\u001b[0;31mNameError\u001b[0m: name 'plt' is not defined"
     ]
    }
   ],
   "source": [
    "def sum_wins(num_trials):\n",
    "    wins = []\n",
    "    for i in range(num_trials):\n",
    "        wins.append(dice_one() + dice_two())\n",
    "\n",
    "            \n",
    "    return wins\n",
    "figure, axes = plt.subplots(nrows=3, ncols=2, figsize=(13, 8))\n",
    "numbers=[10,10,100,100,10000,10000]\n",
    "for i, axe in enumerate(axes.flatten()):\n",
    "    num = numbers[i]\n",
    "    results = sum_wins(num)\n",
    "    axe.hist(results, bins = 11)\n",
    "\n",
    "figure.tight_layout()\n",
    "\n"
   ]
  }
 ],
 "metadata": {
  "kernelspec": {
   "display_name": "Python 3",
   "language": "python",
   "name": "python3"
  },
  "language_info": {
   "codemirror_mode": {
    "name": "ipython",
    "version": 3
   },
   "file_extension": ".py",
   "mimetype": "text/x-python",
   "name": "python",
   "nbconvert_exporter": "python",
   "pygments_lexer": "ipython3",
   "version": "3.6.9"
  }
 },
 "nbformat": 4,
 "nbformat_minor": 4
}
